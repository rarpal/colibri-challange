{
 "cells": [
  {
   "cell_type": "code",
   "execution_count": 1,
   "metadata": {},
   "outputs": [],
   "source": [
    "from pyspark.sql import SparkSession, DataFrame\n",
    "from pyspark.sql import functions as F\n",
    "from pyspark.sql import types as T\n",
    "from pipelines.util.platform import start_spark\n",
    "from pipelines.util.storage import read_csv,read_csvfolder,write_partby_parquet,write_parquet,read_parquet_filter,read_parquet\n",
    "from pipelines.loading.load_wtdata import get_latestvalidated_wtdata"
   ]
  },
  {
   "cell_type": "code",
   "execution_count": 2,
   "metadata": {},
   "outputs": [
    {
     "name": "stdout",
     "output_type": "stream",
     "text": [
      "local\n"
     ]
    }
   ],
   "source": [
    "sps, logger, conf = start_spark(app_name='process_wtdata')"
   ]
  },
  {
   "cell_type": "code",
   "execution_count": 3,
   "metadata": {},
   "outputs": [],
   "source": [
    "sch = T.StructType([\n",
    "    T.StructField(\"timestamp\", T.TimestampType(), True),\n",
    "    T.StructField(\"turbine_id\", T.IntegerType(), True),\n",
    "    T.StructField(\"wind_speed\", T.DoubleType(), True),\n",
    "    T.StructField(\"wind_direction\", T.IntegerType(), True),\n",
    "    T.StructField(\"power_output\", T.DoubleType(), True),\n",
    "    T.StructField(\"outputdate\", T.DateType(), True),\n",
    "    T.StructField(\"is_missing\", T.BooleanType(), True),\n",
    "    T.StructField(\"wind_speed_cleaned\", T.DoubleType(), True),\n",
    "    T.StructField(\"power_output_cleaned\", T.DoubleType(), True),\n",
    "    T.StructField(\"wind_direction_cleaned\", T.IntegerType(), True)\n",
    "])\n",
    "pqoptions = {\n",
    "    \"schema\": sch,\n",
    "    \"inferSchema\": \"false\"\n",
    "}"
   ]
  },
  {
   "cell_type": "code",
   "execution_count": 4,
   "metadata": {},
   "outputs": [],
   "source": [
    "wtdata_validated = get_latestvalidated_wtdata(sps, pqoptions)"
   ]
  },
  {
   "cell_type": "code",
   "execution_count": 5,
   "metadata": {},
   "outputs": [
    {
     "name": "stdout",
     "output_type": "stream",
     "text": [
      "root\n",
      " |-- timestamp: timestamp (nullable = true)\n",
      " |-- wind_speed: double (nullable = true)\n",
      " |-- wind_direction: integer (nullable = true)\n",
      " |-- power_output: double (nullable = true)\n",
      " |-- outputdate: date (nullable = true)\n",
      " |-- turbine_id: integer (nullable = true)\n",
      " |-- is_missing: boolean (nullable = true)\n",
      " |-- wind_speed_cleaned: double (nullable = true)\n",
      " |-- power_output_cleaned: double (nullable = true)\n",
      " |-- wind_direction_cleaned: integer (nullable = true)\n",
      "\n"
     ]
    },
    {
     "data": {
      "text/plain": [
       "11160"
      ]
     },
     "execution_count": 5,
     "metadata": {},
     "output_type": "execute_result"
    }
   ],
   "source": [
    "wtdata_validated.printSchema()\n",
    "wtdata_validated.count()"
   ]
  },
  {
   "cell_type": "code",
   "execution_count": 6,
   "metadata": {},
   "outputs": [],
   "source": [
    "wtdata_validated.createOrReplaceTempView(\"wtdata_validated\")"
   ]
  },
  {
   "cell_type": "code",
   "execution_count": 7,
   "metadata": {},
   "outputs": [
    {
     "data": {
      "text/plain": [
       "DataFrame[]"
      ]
     },
     "execution_count": 7,
     "metadata": {},
     "output_type": "execute_result"
    }
   ],
   "source": [
    "location = \"'{storage_path}/WTDATA'\".format(storage_path = sps.conf.get('storage.datamart'))\n",
    "\n",
    "sps.sql(f\"CREATE TABLE IF NOT EXISTS WTDATA ( \\\n",
    "                TIMESTAMP TIMESTAMP, \\\n",
    "                TURBINE_ID INT, \\\n",
    "                WIND_SPEED DOUBLE, \\\n",
    "                WIND_DIRECTION INT, \\\n",
    "                POWER_OUTPUT DOUBLE, \\\n",
    "                OUTPUTDATE DATE, \\\n",
    "                IS_MISSING BOOLEAN, \\\n",
    "                WIND_SPEED_CLEANED DOUBLE, \\\n",
    "                WIND_DIRECTION_CLEANED INT, \\\n",
    "                POWER_OUTPUT_CLEANED DOUBLE ) \\\n",
    "        USING DELTA \\\n",
    "        LOCATION {location}\")"
   ]
  },
  {
   "cell_type": "code",
   "execution_count": 8,
   "metadata": {},
   "outputs": [
    {
     "data": {
      "text/plain": [
       "DataFrame[num_affected_rows: bigint, num_updated_rows: bigint, num_deleted_rows: bigint, num_inserted_rows: bigint]"
      ]
     },
     "execution_count": 8,
     "metadata": {},
     "output_type": "execute_result"
    }
   ],
   "source": [
    "sps.sql(f\"MERGE INTO WTDATA \\\n",
    "        USING ( \\\n",
    "            SELECT \\\n",
    "                wtdata_validated.timestamp, \\\n",
    "                wtdata_validated.turbine_id, \\\n",
    "                wtdata_validated.wind_speed, \\\n",
    "                wtdata_validated.wind_direction, \\\n",
    "                wtdata_validated.power_output, \\\n",
    "                wtdata_validated.outputdate, \\\n",
    "                wtdata_validated.is_missing, \\\n",
    "                wtdata_validated.wind_speed_cleaned, \\\n",
    "                wtdata_validated.wind_direction_cleaned, \\\n",
    "                wtdata_validated.power_output_cleaned \\\n",
    "            FROM wtdata_validated \\\n",
    "        ) AS wtdata_validated \\\n",
    "        ON WTDATA.TIMESTAMP = wtdata_validated.timestamp \\\n",
    "            AND WTDATA.TURBINE_ID = wtdata_validated.turbine_id \\\n",
    "        WHEN NOT MATCHED THEN \\\n",
    "            INSERT ( \\\n",
    "                TIMESTAMP, \\\n",
    "                TURBINE_ID, \\\n",
    "                WIND_SPEED, \\\n",
    "                WIND_DIRECTION, \\\n",
    "                POWER_OUTPUT, \\\n",
    "                OUTPUTDATE, \\\n",
    "                IS_MISSING, \\\n",
    "                WIND_SPEED_CLEANED, \\\n",
    "                WIND_DIRECTION_CLEANED, \\\n",
    "                POWER_OUTPUT_CLEANED \\\n",
    "            ) VALUES ( \\\n",
    "                wtdata_validated.timestamp, \\\n",
    "                wtdata_validated.turbine_id, \\\n",
    "                wtdata_validated.wind_speed, \\\n",
    "                wtdata_validated.wind_direction, \\\n",
    "                wtdata_validated.power_output, \\\n",
    "                wtdata_validated.outputdate, \\\n",
    "                wtdata_validated.is_missing, \\\n",
    "                wtdata_validated.wind_speed_cleaned, \\\n",
    "                wtdata_validated.wind_direction_cleaned, \\\n",
    "                wtdata_validated.power_output_cleaned \\\n",
    "            )\")"
   ]
  },
  {
   "cell_type": "code",
   "execution_count": 3,
   "metadata": {},
   "outputs": [
    {
     "name": "stdout",
     "output_type": "stream",
     "text": [
      "+-------------------+----------+----------+--------------+------------+----------+----------+------------------+----------------------+--------------------+\n",
      "|TIMESTAMP          |TURBINE_ID|WIND_SPEED|WIND_DIRECTION|POWER_OUTPUT|OUTPUTDATE|IS_MISSING|WIND_SPEED_CLEANED|WIND_DIRECTION_CLEANED|POWER_OUTPUT_CLEANED|\n",
      "+-------------------+----------+----------+--------------+------------+----------+----------+------------------+----------------------+--------------------+\n",
      "|2022-03-08 00:00:00|1         |12.9      |306           |3.3         |2022-03-08|false     |12.9              |306                   |3.3                 |\n",
      "|2022-03-08 01:00:00|1         |14.1      |153           |2.1         |2022-03-08|false     |14.1              |153                   |2.1                 |\n",
      "|2022-03-08 02:00:00|1         |10.1      |185           |2.4         |2022-03-08|false     |10.1              |185                   |2.4                 |\n",
      "|2022-03-08 03:00:00|1         |10.2      |284           |3.8         |2022-03-08|false     |10.2              |284                   |3.8                 |\n",
      "|2022-03-08 04:00:00|1         |9.6       |329           |4.0         |2022-03-08|false     |9.6               |329                   |4.0                 |\n",
      "|2022-03-08 05:00:00|1         |10.9      |253           |2.7         |2022-03-08|false     |10.9              |253                   |2.7                 |\n",
      "|2022-03-08 06:00:00|1         |14.6      |252           |2.8         |2022-03-08|false     |14.6              |252                   |2.8                 |\n",
      "|2022-03-08 07:00:00|1         |14.7      |225           |2.7         |2022-03-08|false     |14.7              |225                   |2.7                 |\n",
      "|2022-03-08 08:00:00|1         |9.1       |153           |4.3         |2022-03-08|false     |9.1               |153                   |4.3                 |\n",
      "|2022-03-08 09:00:00|1         |12.6      |267           |4.5         |2022-03-08|false     |12.6              |267                   |4.5                 |\n",
      "|2022-03-08 10:00:00|1         |12.6      |163           |3.7         |2022-03-08|false     |12.6              |163                   |3.7                 |\n",
      "|2022-03-08 11:00:00|1         |12.7      |252           |2.9         |2022-03-08|false     |12.7              |252                   |2.9                 |\n",
      "|2022-03-08 12:00:00|1         |10.0      |195           |3.5         |2022-03-08|false     |10.0              |195                   |3.5                 |\n",
      "|2022-03-08 13:00:00|1         |11.0      |57            |3.1         |2022-03-08|false     |11.0              |57                    |3.1                 |\n",
      "|2022-03-08 14:00:00|1         |14.2      |217           |4.5         |2022-03-08|false     |14.2              |217                   |4.5                 |\n",
      "|2022-03-08 15:00:00|1         |10.5      |95            |4.4         |2022-03-08|false     |10.5              |95                    |4.4                 |\n",
      "|2022-03-08 16:00:00|1         |14.3      |143           |3.6         |2022-03-08|false     |14.3              |143                   |3.6                 |\n",
      "|2022-03-08 17:00:00|1         |11.5      |295           |2.8         |2022-03-08|false     |11.5              |295                   |2.8                 |\n",
      "|2022-03-08 18:00:00|1         |10.6      |39            |2.5         |2022-03-08|false     |10.6              |39                    |2.5                 |\n",
      "|2022-03-08 19:00:00|1         |10.9      |204           |3.6         |2022-03-08|false     |10.9              |204                   |3.6                 |\n",
      "+-------------------+----------+----------+--------------+------------+----------+----------+------------------+----------------------+--------------------+\n",
      "only showing top 20 rows\n",
      "\n"
     ]
    }
   ],
   "source": [
    "sps.sql(\"SELECT * FROM WTDATA\").show(truncate=False)"
   ]
  },
  {
   "cell_type": "code",
   "execution_count": null,
   "metadata": {},
   "outputs": [],
   "source": [
    "sps.sql(\"SELECT count(*) FROM WTDATA\").show(truncate=False)"
   ]
  },
  {
   "cell_type": "code",
   "execution_count": 5,
   "metadata": {},
   "outputs": [
    {
     "name": "stdout",
     "output_type": "stream",
     "text": [
      "+----------------------+---------+-------+\n",
      "|col_name              |data_type|comment|\n",
      "+----------------------+---------+-------+\n",
      "|TIMESTAMP             |timestamp|NULL   |\n",
      "|TURBINE_ID            |int      |NULL   |\n",
      "|WIND_SPEED            |double   |NULL   |\n",
      "|WIND_DIRECTION        |int      |NULL   |\n",
      "|POWER_OUTPUT          |double   |NULL   |\n",
      "|OUTPUTDATE            |date     |NULL   |\n",
      "|IS_MISSING            |boolean  |NULL   |\n",
      "|WIND_SPEED_CLEANED    |double   |NULL   |\n",
      "|WIND_DIRECTION_CLEANED|int      |NULL   |\n",
      "|POWER_OUTPUT_CLEANED  |double   |NULL   |\n",
      "+----------------------+---------+-------+\n",
      "\n"
     ]
    }
   ],
   "source": [
    "sps.sql(\"DESCRIBE TABLE WTDATA\").show(truncate=False)"
   ]
  }
 ],
 "metadata": {
  "kernelspec": {
   "display_name": "Python 3",
   "language": "python",
   "name": "python3"
  },
  "language_info": {
   "codemirror_mode": {
    "name": "ipython",
    "version": 3
   },
   "file_extension": ".py",
   "mimetype": "text/x-python",
   "name": "python",
   "nbconvert_exporter": "python",
   "pygments_lexer": "ipython3",
   "version": "3.10.16"
  }
 },
 "nbformat": 4,
 "nbformat_minor": 2
}

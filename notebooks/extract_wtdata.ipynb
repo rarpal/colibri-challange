{
 "cells": [
  {
   "cell_type": "code",
   "execution_count": 1,
   "metadata": {},
   "outputs": [],
   "source": [
    "from pyspark.sql import SparkSession, DataFrame\n",
    "from pyspark.sql import functions as F\n",
    "from pyspark.sql import types as T\n",
    "from pipelines.util.platform import start_spark\n",
    "from pipelines.util.storage import read_csv,read_csvfolder,write_partby_parquet"
   ]
  },
  {
   "cell_type": "code",
   "execution_count": null,
   "metadata": {},
   "outputs": [
    {
     "name": "stdout",
     "output_type": "stream",
     "text": [
      "local\n"
     ]
    }
   ],
   "source": [
    "sps, logger, conf = start_spark(app_name='process_wtdata')"
   ]
  },
  {
   "cell_type": "code",
   "execution_count": 3,
   "metadata": {},
   "outputs": [],
   "source": [
    "sch = T.StructType([\n",
    "    T.StructField(\"timestamp\", T.TimestampType(), True),\n",
    "    T.StructField(\"turbine_id\", T.IntegerType(), True),\n",
    "    T.StructField(\"wind_speed\", T.DoubleType(), True),\n",
    "    T.StructField(\"wind_direction\", T.IntegerType(), True),\n",
    "    T.StructField(\"power_output\", T.DoubleType(), True)\n",
    "    ])\n",
    "\n",
    "csvoptions = {\n",
    "    \"header\": \"true\",\n",
    "    \"sep\": \",\",\n",
    "    \"schema\": sch,\n",
    "    \"inferSchema\": \"false\"\n",
    "}\n",
    "\n",
    "df_wtdata = read_csvfolder(sps, \"{storage_landed}\".format(storage_landed = sps.conf.get('storage.landed')), csvoptions)"
   ]
  },
  {
   "cell_type": "code",
   "execution_count": 4,
   "metadata": {},
   "outputs": [],
   "source": [
    "df_wtdata = df_wtdata.withColumn(\"outputdate\",F.to_date(F.col(\"timestamp\")))"
   ]
  },
  {
   "cell_type": "code",
   "execution_count": null,
   "metadata": {},
   "outputs": [
    {
     "name": "stdout",
     "output_type": "stream",
     "text": [
      "root\n",
      " |-- timestamp: timestamp (nullable = true)\n",
      " |-- turbine_id: integer (nullable = true)\n",
      " |-- wind_speed: double (nullable = true)\n",
      " |-- wind_direction: integer (nullable = true)\n",
      " |-- power_output: double (nullable = true)\n",
      " |-- outputdate: date (nullable = true)\n",
      "\n"
     ]
    }
   ],
   "source": [
    "df_wtdata.printSchema()"
   ]
  },
  {
   "cell_type": "code",
   "execution_count": 13,
   "metadata": {},
   "outputs": [
    {
     "name": "stdout",
     "output_type": "stream",
     "text": [
      "+---------------+---------------+-----------------+-----------------+-------------------+-------------------+\n",
      "|min(wind_speed)|max(wind_speed)|min(power_output)|max(power_output)|min(wind_direction)|max(wind_direction)|\n",
      "+---------------+---------------+-----------------+-----------------+-------------------+-------------------+\n",
      "|            9.0|           15.0|              1.5|              4.5|                  0|                359|\n",
      "+---------------+---------------+-----------------+-----------------+-------------------+-------------------+\n",
      "\n"
     ]
    }
   ],
   "source": [
    "#df_wtdata.show(truncate=False)\n",
    "#df_wtdata.count()\n",
    "df_wtdata.agg(\n",
    "    F.min(F.col(\"wind_speed\")),F.max(F.col(\"wind_speed\")),\n",
    "    F.min(F.col(\"power_output\")),F.max(F.col(\"power_output\")),\n",
    "    F.min(F.col(\"wind_direction\")),F.max(F.col(\"wind_direction\")),\n",
    ").show()\n",
    "\n",
    "# {\n",
    "#     \"wind_speed\": \"min\",\n",
    "#     \"wind_speed\": \"max\",\n",
    "#     \"power_output\": \"min\",\n",
    "#     \"power_output\": \"max\"\n",
    "#     }"
   ]
  },
  {
   "cell_type": "code",
   "execution_count": 6,
   "metadata": {},
   "outputs": [],
   "source": [
    "write_partby_parquet(sps, df_wtdata, [\"outputdate\",\"turbine_id\"], \"{storage_landed}\".format(storage_landed = sps.conf.get('storage.extracted')))"
   ]
  }
 ],
 "metadata": {
  "kernelspec": {
   "display_name": "Python 3",
   "language": "python",
   "name": "python3"
  },
  "language_info": {
   "codemirror_mode": {
    "name": "ipython",
    "version": 3
   },
   "file_extension": ".py",
   "mimetype": "text/x-python",
   "name": "python",
   "nbconvert_exporter": "python",
   "pygments_lexer": "ipython3",
   "version": "3.10.16"
  }
 },
 "nbformat": 4,
 "nbformat_minor": 2
}

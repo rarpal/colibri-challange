{
 "cells": [
  {
   "cell_type": "code",
   "execution_count": 5,
   "metadata": {},
   "outputs": [],
   "source": [
    "from pipelines.util.platform import start_spark\n",
    "from pipelines.util.storage import read_csv,read_csvfolder\n",
    "from pyspark.sql import functions as F\n",
    "from pyspark.sql import types as T\n",
    "from pyspark.sql.window import Window\n",
    "from pyspark import SparkConf\n",
    "import pandas as pd"
   ]
  },
  {
   "cell_type": "code",
   "execution_count": 6,
   "metadata": {},
   "outputs": [
    {
     "name": "stdout",
     "output_type": "stream",
     "text": [
      "local\n"
     ]
    }
   ],
   "source": [
    "spark, logger, conf = start_spark(app_name='colibri-challange-profiledata')"
   ]
  },
  {
   "cell_type": "code",
   "execution_count": 7,
   "metadata": {},
   "outputs": [],
   "source": [
    "dg1 = read_csv(spark, \"{storage_landed}/data_group_1.csv\".format(storage_landed=spark.conf.get('storage.landed')), dict(header=\"true\",inferSchema=\"true\") )"
   ]
  },
  {
   "cell_type": "code",
   "execution_count": 8,
   "metadata": {},
   "outputs": [
    {
     "name": "stdout",
     "output_type": "stream",
     "text": [
      "root\n",
      " |-- timestamp: timestamp (nullable = true)\n",
      " |-- turbine_id: integer (nullable = true)\n",
      " |-- wind_speed: double (nullable = true)\n",
      " |-- wind_direction: integer (nullable = true)\n",
      " |-- power_output: double (nullable = true)\n",
      "\n"
     ]
    }
   ],
   "source": [
    "dg1.printSchema()"
   ]
  },
  {
   "cell_type": "code",
   "execution_count": 3,
   "metadata": {},
   "outputs": [],
   "source": [
    "sch = T.StructType([\n",
    "    T.StructField(\"timestamp\", T.TimestampType(), True),\n",
    "    T.StructField(\"turbine_id\", T.IntegerType(), True),\n",
    "    T.StructField(\"wind_speed\", T.DoubleType(), True),\n",
    "    T.StructField(\"wind_direction\", T.IntegerType(), True),\n",
    "    T.StructField(\"power_output\", T.DoubleType(), True)\n",
    "])\n",
    "csvoptions = {\n",
    "    \"header\": \"true\",\n",
    "    \"sep\": \",\",\n",
    "    \"schema\": sch,\n",
    "    \"inferSchema\": \"false\"\n",
    "}\n",
    "dg_1_5 = read_csvfolder(spark, \"{storage_landed}\".format(storage_landed=spark.conf.get('storage.landed')), csvoptions). \\\n",
    "    withColumn(\"filename\", F.input_file_name())"
   ]
  },
  {
   "cell_type": "code",
   "execution_count": 12,
   "metadata": {},
   "outputs": [
    {
     "data": {
      "text/plain": [
       "11160"
      ]
     },
     "execution_count": 12,
     "metadata": {},
     "output_type": "execute_result"
    }
   ],
   "source": [
    "#dg_1_5.printSchema()\n",
    "dg_1_5.count()\n",
    "#dg_1_5.orderBy(\"timestamp\",\"turbine_id\").show(truncate=False)"
   ]
  },
  {
   "cell_type": "code",
   "execution_count": 27,
   "metadata": {},
   "outputs": [
    {
     "name": "stdout",
     "output_type": "stream",
     "text": [
      "+----------+----------+-----+\n",
      "|turbine_id|     tdate|count|\n",
      "+----------+----------+-----+\n",
      "|         1|2022-03-01|   24|\n",
      "|         1|2022-03-02|   24|\n",
      "|         1|2022-03-03|   24|\n",
      "|         1|2022-03-04|   24|\n",
      "|         1|2022-03-05|   24|\n",
      "|         1|2022-03-06|   24|\n",
      "|         1|2022-03-07|   24|\n",
      "|         1|2022-03-08|   24|\n",
      "|         1|2022-03-09|   24|\n",
      "|         1|2022-03-10|   24|\n",
      "|         1|2022-03-11|   24|\n",
      "|         1|2022-03-12|   24|\n",
      "|         1|2022-03-13|   24|\n",
      "|         1|2022-03-14|   24|\n",
      "|         1|2022-03-15|   24|\n",
      "|         1|2022-03-16|   24|\n",
      "|         1|2022-03-17|   24|\n",
      "|         1|2022-03-18|   24|\n",
      "|         1|2022-03-19|   24|\n",
      "|         1|2022-03-20|   24|\n",
      "|         1|2022-03-21|   24|\n",
      "|         1|2022-03-22|   24|\n",
      "|         1|2022-03-23|   24|\n",
      "|         1|2022-03-24|   24|\n",
      "|         1|2022-03-25|   24|\n",
      "|         1|2022-03-26|   24|\n",
      "|         1|2022-03-27|   24|\n",
      "|         1|2022-03-28|   24|\n",
      "|         1|2022-03-29|   24|\n",
      "|         1|2022-03-30|   24|\n",
      "|         1|2022-03-31|   24|\n",
      "|         2|2022-03-01|   24|\n",
      "|         2|2022-03-02|   24|\n",
      "|         2|2022-03-03|   24|\n",
      "|         2|2022-03-04|   24|\n",
      "|         2|2022-03-05|   24|\n",
      "|         2|2022-03-06|   24|\n",
      "|         2|2022-03-07|   24|\n",
      "|         2|2022-03-08|   24|\n",
      "|         2|2022-03-09|   24|\n",
      "|         2|2022-03-10|   24|\n",
      "|         2|2022-03-11|   24|\n",
      "|         2|2022-03-12|   24|\n",
      "|         2|2022-03-13|   24|\n",
      "|         2|2022-03-14|   24|\n",
      "|         2|2022-03-15|   24|\n",
      "|         2|2022-03-16|   24|\n",
      "|         2|2022-03-17|   24|\n",
      "|         2|2022-03-18|   24|\n",
      "|         2|2022-03-19|   24|\n",
      "|         2|2022-03-20|   24|\n",
      "|         2|2022-03-21|   24|\n",
      "|         2|2022-03-22|   24|\n",
      "|         2|2022-03-23|   24|\n",
      "|         2|2022-03-24|   24|\n",
      "|         2|2022-03-25|   24|\n",
      "|         2|2022-03-26|   24|\n",
      "|         2|2022-03-27|   24|\n",
      "|         2|2022-03-28|   24|\n",
      "|         2|2022-03-29|   24|\n",
      "|         2|2022-03-30|   24|\n",
      "|         2|2022-03-31|   24|\n",
      "|         3|2022-03-01|   24|\n",
      "|         3|2022-03-02|   24|\n",
      "|         3|2022-03-03|   24|\n",
      "|         3|2022-03-04|   24|\n",
      "|         3|2022-03-05|   24|\n",
      "|         3|2022-03-06|   24|\n",
      "|         3|2022-03-07|   24|\n",
      "|         3|2022-03-08|   24|\n",
      "|         3|2022-03-09|   24|\n",
      "|         3|2022-03-10|   24|\n",
      "|         3|2022-03-11|   24|\n",
      "|         3|2022-03-12|   24|\n",
      "|         3|2022-03-13|   24|\n",
      "|         3|2022-03-14|   24|\n",
      "|         3|2022-03-15|   24|\n",
      "|         3|2022-03-16|   24|\n",
      "|         3|2022-03-17|   24|\n",
      "|         3|2022-03-18|   24|\n",
      "|         3|2022-03-19|   24|\n",
      "|         3|2022-03-20|   24|\n",
      "|         3|2022-03-21|   24|\n",
      "|         3|2022-03-22|   24|\n",
      "|         3|2022-03-23|   24|\n",
      "|         3|2022-03-24|   24|\n",
      "|         3|2022-03-25|   24|\n",
      "|         3|2022-03-26|   24|\n",
      "|         3|2022-03-27|   24|\n",
      "|         3|2022-03-28|   24|\n",
      "|         3|2022-03-29|   24|\n",
      "|         3|2022-03-30|   24|\n",
      "|         3|2022-03-31|   24|\n",
      "|         4|2022-03-01|   24|\n",
      "|         4|2022-03-02|   24|\n",
      "|         4|2022-03-03|   24|\n",
      "|         4|2022-03-04|   24|\n",
      "|         4|2022-03-05|   24|\n",
      "|         4|2022-03-06|   24|\n",
      "|         4|2022-03-07|   24|\n",
      "+----------+----------+-----+\n",
      "only showing top 100 rows\n",
      "\n"
     ]
    }
   ],
   "source": [
    "df_dcount = dg_1_5.groupBy(F.col(\"turbine_id\"),F.to_date(F.col(\"timestamp\")).alias(\"tdate\")).count()\n",
    "df_dcount.orderBy(F.col(\"turbine_id\"),F.col(\"tdate\")).show(n=100)\n"
   ]
  },
  {
   "cell_type": "code",
   "execution_count": 6,
   "metadata": {},
   "outputs": [
    {
     "name": "stdout",
     "output_type": "stream",
     "text": [
      "+-------------------+----------+----------+--------------+------------+--------------------------------------------------------------------------+-------------------+--------+\n",
      "|timestamp          |turbine_id|wind_speed|wind_direction|power_output|filename                                                                  |prev_ts            |diff_hrs|\n",
      "+-------------------+----------+----------+--------------+------------+--------------------------------------------------------------------------+-------------------+--------+\n",
      "|2022-03-27 02:00:00|1         |10.9      |175           |1.9         |file:///C:/PalProjects/colibri-challange/code/data/landed/data_group_1.csv|2022-03-27 02:00:00|0.0     |\n",
      "|2022-03-27 02:00:00|2         |9.5       |94            |4.4         |file:///C:/PalProjects/colibri-challange/code/data/landed/data_group_1.csv|2022-03-27 02:00:00|0.0     |\n",
      "|2022-03-27 02:00:00|3         |13.4      |110           |3.0         |file:///C:/PalProjects/colibri-challange/code/data/landed/data_group_1.csv|2022-03-27 02:00:00|0.0     |\n",
      "|2022-03-27 02:00:00|4         |14.8      |217           |3.3         |file:///C:/PalProjects/colibri-challange/code/data/landed/data_group_1.csv|2022-03-27 02:00:00|0.0     |\n",
      "|2022-03-27 02:00:00|5         |14.4      |156           |4.3         |file:///C:/PalProjects/colibri-challange/code/data/landed/data_group_1.csv|2022-03-27 02:00:00|0.0     |\n",
      "|2022-03-27 02:00:00|6         |12.3      |114           |4.4         |file:///C:/PalProjects/colibri-challange/code/data/landed/data_group_2.csv|2022-03-27 02:00:00|0.0     |\n",
      "|2022-03-27 02:00:00|7         |10.7      |274           |2.5         |file:///C:/PalProjects/colibri-challange/code/data/landed/data_group_2.csv|2022-03-27 02:00:00|0.0     |\n",
      "|2022-03-27 02:00:00|8         |14.9      |16            |4.1         |file:///C:/PalProjects/colibri-challange/code/data/landed/data_group_2.csv|2022-03-27 02:00:00|0.0     |\n",
      "|2022-03-27 02:00:00|9         |12.0      |46            |3.9         |file:///C:/PalProjects/colibri-challange/code/data/landed/data_group_2.csv|2022-03-27 02:00:00|0.0     |\n",
      "|2022-03-27 02:00:00|10        |9.6       |20            |4.1         |file:///C:/PalProjects/colibri-challange/code/data/landed/data_group_2.csv|2022-03-27 02:00:00|0.0     |\n",
      "|2022-03-27 02:00:00|11        |10.5      |331           |2.4         |file:///C:/PalProjects/colibri-challange/code/data/landed/data_group_3.csv|2022-03-27 02:00:00|0.0     |\n",
      "|2022-03-27 02:00:00|12        |11.2      |197           |1.5         |file:///C:/PalProjects/colibri-challange/code/data/landed/data_group_3.csv|2022-03-27 02:00:00|0.0     |\n",
      "|2022-03-27 02:00:00|13        |9.2       |261           |3.7         |file:///C:/PalProjects/colibri-challange/code/data/landed/data_group_3.csv|2022-03-27 02:00:00|0.0     |\n",
      "|2022-03-27 02:00:00|14        |9.4       |73            |3.1         |file:///C:/PalProjects/colibri-challange/code/data/landed/data_group_3.csv|2022-03-27 02:00:00|0.0     |\n",
      "|2022-03-27 02:00:00|15        |9.5       |270           |3.1         |file:///C:/PalProjects/colibri-challange/code/data/landed/data_group_3.csv|2022-03-27 02:00:00|0.0     |\n",
      "+-------------------+----------+----------+--------------+------------+--------------------------------------------------------------------------+-------------------+--------+\n",
      "\n"
     ]
    }
   ],
   "source": [
    "wspec = Window.partitionBy(F.col(\"turbine_id\"),F.to_date(F.col(\"timestamp\"))).orderBy(F.col(\"timestamp\"))\n",
    "\n",
    "dg_1_5.withColumn(\"prev_ts\",F.lag(F.col(\"timestamp\"),1).over(wspec)). \\\n",
    "    withColumn(\"diff_hrs\", (F.col(\"timestamp\").cast(\"long\") - F.col(\"prev_ts\").cast(\"long\"))/3600). \\\n",
    "    filter( (F.col(\"diff_hrs\") > 1.0) | (F.col(\"diff_hrs\") < 1.0) ).show(truncate=False)\n",
    "\n",
    "\n",
    "# df_sum = dg_1_5.groupBy(F.col(\"turbine_id\"),F.to_date(F.col(\"timestamp\")).alias(\"tdate\")).agg(F.sum(F.unix_timestamp(F.col(\"timestamp\"))).alias(\"tsum\"))\n",
    "# df_sum.orderBy(F.col(\"turbine_id\"),F.col(\"tdate\")).show()\n"
   ]
  },
  {
   "cell_type": "code",
   "execution_count": 5,
   "metadata": {},
   "outputs": [
    {
     "name": "stdout",
     "output_type": "stream",
     "text": [
      "+-------------------+----------+----------+--------------+------------+--------------------------------------------------------------------------+\n",
      "|timestamp          |turbine_id|wind_speed|wind_direction|power_output|filename                                                                  |\n",
      "+-------------------+----------+----------+--------------+------------+--------------------------------------------------------------------------+\n",
      "|2022-03-27 00:00:00|1         |12.1      |79            |3.4         |file:///C:/PalProjects/colibri-challange/code/data/landed/data_group_1.csv|\n",
      "|2022-03-27 02:00:00|1         |11.6      |340           |4.2         |file:///C:/PalProjects/colibri-challange/code/data/landed/data_group_1.csv|\n",
      "|2022-03-27 02:00:00|1         |10.9      |175           |1.9         |file:///C:/PalProjects/colibri-challange/code/data/landed/data_group_1.csv|\n",
      "|2022-03-27 03:00:00|1         |11.4      |130           |2.1         |file:///C:/PalProjects/colibri-challange/code/data/landed/data_group_1.csv|\n",
      "|2022-03-27 04:00:00|1         |13.4      |187           |4.0         |file:///C:/PalProjects/colibri-challange/code/data/landed/data_group_1.csv|\n",
      "|2022-03-27 05:00:00|1         |12.7      |334           |4.0         |file:///C:/PalProjects/colibri-challange/code/data/landed/data_group_1.csv|\n",
      "|2022-03-27 06:00:00|1         |14.7      |136           |2.3         |file:///C:/PalProjects/colibri-challange/code/data/landed/data_group_1.csv|\n",
      "|2022-03-27 07:00:00|1         |9.5       |319           |2.1         |file:///C:/PalProjects/colibri-challange/code/data/landed/data_group_1.csv|\n",
      "|2022-03-27 08:00:00|1         |12.7      |81            |3.7         |file:///C:/PalProjects/colibri-challange/code/data/landed/data_group_1.csv|\n",
      "|2022-03-27 09:00:00|1         |9.9       |336           |4.4         |file:///C:/PalProjects/colibri-challange/code/data/landed/data_group_1.csv|\n",
      "|2022-03-27 10:00:00|1         |10.1      |224           |3.2         |file:///C:/PalProjects/colibri-challange/code/data/landed/data_group_1.csv|\n",
      "|2022-03-27 11:00:00|1         |11.4      |6             |2.3         |file:///C:/PalProjects/colibri-challange/code/data/landed/data_group_1.csv|\n",
      "|2022-03-27 12:00:00|1         |10.6      |353           |1.7         |file:///C:/PalProjects/colibri-challange/code/data/landed/data_group_1.csv|\n",
      "|2022-03-27 13:00:00|1         |13.4      |270           |4.2         |file:///C:/PalProjects/colibri-challange/code/data/landed/data_group_1.csv|\n",
      "|2022-03-27 14:00:00|1         |13.7      |205           |3.7         |file:///C:/PalProjects/colibri-challange/code/data/landed/data_group_1.csv|\n",
      "|2022-03-27 15:00:00|1         |13.8      |96            |2.8         |file:///C:/PalProjects/colibri-challange/code/data/landed/data_group_1.csv|\n",
      "|2022-03-27 16:00:00|1         |14.5      |279           |2.2         |file:///C:/PalProjects/colibri-challange/code/data/landed/data_group_1.csv|\n",
      "|2022-03-27 17:00:00|1         |12.7      |234           |2.6         |file:///C:/PalProjects/colibri-challange/code/data/landed/data_group_1.csv|\n",
      "|2022-03-27 18:00:00|1         |11.1      |215           |2.0         |file:///C:/PalProjects/colibri-challange/code/data/landed/data_group_1.csv|\n",
      "|2022-03-27 19:00:00|1         |9.2       |325           |4.0         |file:///C:/PalProjects/colibri-challange/code/data/landed/data_group_1.csv|\n",
      "+-------------------+----------+----------+--------------+------------+--------------------------------------------------------------------------+\n",
      "only showing top 20 rows\n",
      "\n"
     ]
    }
   ],
   "source": [
    "dg_1_5.filter(F.to_date(F.col(\"timestamp\")) == '2022-03-27').orderBy(F.col(\"turbine_id\"),F.col(\"timestamp\")).show(truncate=False)"
   ]
  }
 ],
 "metadata": {
  "kernelspec": {
   "display_name": "Python 3",
   "language": "python",
   "name": "python3"
  },
  "language_info": {
   "codemirror_mode": {
    "name": "ipython",
    "version": 3
   },
   "file_extension": ".py",
   "mimetype": "text/x-python",
   "name": "python",
   "nbconvert_exporter": "python",
   "pygments_lexer": "ipython3",
   "version": "3.10.16"
  }
 },
 "nbformat": 4,
 "nbformat_minor": 2
}

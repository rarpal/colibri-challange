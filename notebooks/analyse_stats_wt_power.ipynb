{
 "cells": [
  {
   "cell_type": "code",
   "execution_count": 1,
   "metadata": {},
   "outputs": [],
   "source": [
    "from pyspark.sql import SparkSession, DataFrame\n",
    "from pyspark.sql import functions as F\n",
    "from pyspark.sql import types as T\n",
    "from pipelines.util.platform import start_spark\n",
    "from pipelines.util.storage import read_csv,read_csvfolder,write_partby_parquet,write_parquet,read_parquet_filter,read_parquet"
   ]
  },
  {
   "cell_type": "code",
   "execution_count": 3,
   "metadata": {},
   "outputs": [
    {
     "name": "stdout",
     "output_type": "stream",
     "text": [
      "local\n"
     ]
    }
   ],
   "source": [
    "sps, logger, conf = start_spark(app_name='analyse_wtdata')"
   ]
  },
  {
   "cell_type": "code",
   "execution_count": 3,
   "metadata": {},
   "outputs": [
    {
     "name": "stdout",
     "output_type": "stream",
     "text": [
      "+----------------------+---------+-------+\n",
      "|col_name              |data_type|comment|\n",
      "+----------------------+---------+-------+\n",
      "|TIMESTAMP             |timestamp|NULL   |\n",
      "|TURBINE_ID            |int      |NULL   |\n",
      "|WIND_SPEED            |double   |NULL   |\n",
      "|WIND_DIRECTION        |int      |NULL   |\n",
      "|POWER_OUTPUT          |double   |NULL   |\n",
      "|OUTPUTDATE            |date     |NULL   |\n",
      "|IS_MISSING            |boolean  |NULL   |\n",
      "|WIND_SPEED_CLEANED    |double   |NULL   |\n",
      "|WIND_DIRECTION_CLEANED|int      |NULL   |\n",
      "|POWER_OUTPUT_CLEANED  |double   |NULL   |\n",
      "+----------------------+---------+-------+\n",
      "\n"
     ]
    }
   ],
   "source": [
    "sps.sql(\"DESCRIBE TABLE WTDATA\").show(truncate=False)"
   ]
  },
  {
   "cell_type": "code",
   "execution_count": null,
   "metadata": {},
   "outputs": [],
   "source": [
    "sps.sql(\"SELECT COUNT(*) FROM WTDATA\").show(truncate=False)"
   ]
  },
  {
   "cell_type": "code",
   "execution_count": 11,
   "metadata": {},
   "outputs": [
    {
     "name": "stdout",
     "output_type": "stream",
     "text": [
      "+----------+------------------+\n",
      "|TURBINE_ID|PO_AVG            |\n",
      "+----------+------------------+\n",
      "|1         |3.0163978494623653|\n",
      "|13        |3.0313172043010743|\n",
      "|6         |2.983870967741935 |\n",
      "|3         |2.979973118279571 |\n",
      "|5         |3.016532258064516 |\n",
      "|15        |3.0364247311827954|\n",
      "|9         |3.0028225806451614|\n",
      "|4         |2.946370967741935 |\n",
      "|8         |2.9848118279569897|\n",
      "|7         |3.0126344086021506|\n",
      "|10        |3.006048387096774 |\n",
      "|11        |2.9591397849462364|\n",
      "|14        |3.0177419354838713|\n",
      "|2         |2.9836021505376347|\n",
      "|12        |3.051209677419354 |\n",
      "+----------+------------------+\n",
      "\n",
      "+----------+------------------+\n",
      "|TURBINE_ID|PO_SUM            |\n",
      "+----------+------------------+\n",
      "|1         |2244.2            |\n",
      "|13        |2255.2999999999993|\n",
      "|6         |2219.9999999999995|\n",
      "|3         |2217.100000000001 |\n",
      "|5         |2244.3            |\n",
      "|15        |2259.1            |\n",
      "|9         |2234.1            |\n",
      "|4         |2192.0999999999995|\n",
      "|8         |2220.7000000000003|\n",
      "|7         |2241.4            |\n",
      "|10        |2236.5            |\n",
      "|11        |2201.6            |\n",
      "|14        |2245.2000000000003|\n",
      "|2         |2219.8            |\n",
      "|12        |2270.0999999999995|\n",
      "+----------+------------------+\n",
      "\n",
      "+----------+------------------+\n",
      "|TURBINE_ID|PO_STDDEV         |\n",
      "+----------+------------------+\n",
      "|1         |0.8572389449056388|\n",
      "|13        |0.8773202723151073|\n",
      "|6         |0.8741128566464674|\n",
      "|3         |0.8626320481064979|\n",
      "|5         |0.8658829219297753|\n",
      "|15        |0.8537802013874646|\n",
      "|9         |0.8742649845618982|\n",
      "|4         |0.8870309797871536|\n",
      "|8         |0.8917585675170867|\n",
      "|7         |0.8763846852264793|\n",
      "|10        |0.8662839545922203|\n",
      "|11        |0.8685299917200993|\n",
      "|14        |0.8571807419066154|\n",
      "|2         |0.8745234781936523|\n",
      "|12        |0.8610761298124983|\n",
      "+----------+------------------+\n",
      "\n",
      "+----------+------------------+\n",
      "|TURBINE_ID|PO_STDDEV         |\n",
      "+----------+------------------+\n",
      "|9         |0.8698311327250556|\n",
      "|9         |0.8698311327250556|\n",
      "|9         |0.8698311327250556|\n",
      "|9         |0.8698311327250556|\n",
      "|9         |0.8698311327250556|\n",
      "|9         |0.8698311327250556|\n",
      "|9         |0.8698311327250556|\n",
      "|9         |0.8698311327250556|\n",
      "|9         |0.8698311327250556|\n",
      "|9         |0.8698311327250556|\n",
      "|9         |0.8698311327250556|\n",
      "|9         |0.8698311327250556|\n",
      "|9         |0.8698311327250556|\n",
      "|9         |0.8698311327250556|\n",
      "|9         |0.8698311327250556|\n",
      "|9         |0.8698311327250556|\n",
      "|9         |0.8698311327250556|\n",
      "|9         |0.8698311327250556|\n",
      "|9         |0.8698311327250556|\n",
      "|9         |0.8698311327250556|\n",
      "+----------+------------------+\n",
      "only showing top 20 rows\n",
      "\n"
     ]
    }
   ],
   "source": [
    "sps.sql(\"SELECT TURBINE_ID,AVG(POWER_OUTPUT_CLEANED) AS PO_AVG FROM WTDATA GROUP BY TURBINE_ID\").show(truncate=False)\n",
    "sps.sql(\"SELECT TURBINE_ID,SUM(POWER_OUTPUT_CLEANED) AS PO_SUM FROM WTDATA GROUP BY TURBINE_ID\").show(truncate=False)\n",
    "sps.sql(\"SELECT TURBINE_ID,STDDEV(POWER_OUTPUT_CLEANED) AS PO_STDDEV FROM WTDATA GROUP BY TURBINE_ID\").show(truncate=False)\n",
    "sps.sql(\"SELECT TURBINE_ID,STDDEV(POWER_OUTPUT_CLEANED) OVER() AS PO_STDDEV FROM WTDATA\").show(truncate=False)"
   ]
  },
  {
   "cell_type": "code",
   "execution_count": 4,
   "metadata": {},
   "outputs": [
    {
     "name": "stdout",
     "output_type": "stream",
     "text": [
      "+----------+---------+---------+------------------+\n",
      "|TURBINE_ID|MIN_POWER|MAX_POWER|AVG_POWER         |\n",
      "+----------+---------+---------+------------------+\n",
      "|1         |1.5      |4.5      |3.0163978494623653|\n",
      "|13        |1.5      |4.5      |3.0313172043010743|\n",
      "|6         |1.5      |4.5      |2.983870967741935 |\n",
      "|3         |1.5      |4.5      |2.979973118279571 |\n",
      "|5         |1.5      |4.5      |3.016532258064516 |\n",
      "|15        |1.5      |4.5      |3.0364247311827954|\n",
      "|9         |1.5      |4.5      |3.0028225806451614|\n",
      "|4         |1.5      |4.5      |2.946370967741935 |\n",
      "|8         |1.5      |4.5      |2.9848118279569897|\n",
      "|7         |1.5      |4.5      |3.0126344086021506|\n",
      "|10        |1.5      |4.5      |3.006048387096774 |\n",
      "|11        |1.5      |4.5      |2.9591397849462364|\n",
      "|14        |1.5      |4.5      |3.0177419354838713|\n",
      "|2         |1.5      |4.5      |2.9836021505376347|\n",
      "|12        |1.5      |4.5      |3.051209677419354 |\n",
      "+----------+---------+---------+------------------+\n",
      "\n"
     ]
    }
   ],
   "source": [
    "sps.sql(\"SELECT * FROM STATS_WT_POWER\").show(truncate=False)"
   ]
  }
 ],
 "metadata": {
  "kernelspec": {
   "display_name": "Python 3",
   "language": "python",
   "name": "python3"
  },
  "language_info": {
   "codemirror_mode": {
    "name": "ipython",
    "version": 3
   },
   "file_extension": ".py",
   "mimetype": "text/x-python",
   "name": "python",
   "nbconvert_exporter": "python",
   "pygments_lexer": "ipython3",
   "version": "3.10.16"
  }
 },
 "nbformat": 4,
 "nbformat_minor": 2
}

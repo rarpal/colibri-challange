{
 "cells": [
  {
   "cell_type": "code",
   "execution_count": 1,
   "metadata": {},
   "outputs": [],
   "source": [
    "from pyspark.sql import SparkSession, DataFrame\n",
    "from pyspark.sql import functions as F\n",
    "from pyspark.sql import types as T\n",
    "from pipelines.util.platform import start_spark\n",
    "from pipelines.util.storage import read_csv,read_csvfolder,write_partby_parquet,write_parquet,read_parquet_filter\n",
    "from pipelines.extraction.extract_wtdata import get_latestextract_wtdata\n",
    "from pipelines.validation.validate_wtdata import get_lastvalidated_wtdata,validate_missing_days,validate_wind_speed,validate_wind_direction,validate_power_output\n",
    "from pipelines.metadata import MetaData\n",
    "import datetime"
   ]
  },
  {
   "cell_type": "code",
   "execution_count": 3,
   "metadata": {},
   "outputs": [
    {
     "name": "stdout",
     "output_type": "stream",
     "text": [
      "local\n"
     ]
    }
   ],
   "source": [
    "sps, logger, conf = start_spark(app_name='process_wtdata')"
   ]
  },
  {
   "cell_type": "code",
   "execution_count": 3,
   "metadata": {},
   "outputs": [],
   "source": [
    "md = MetaData()\n",
    "watermark_date = md.get_watermark_date(sps)\n",
    "sch = T.StructType([\n",
    "    T.StructField(\"timestamp\", T.TimestampType(), True),\n",
    "    T.StructField(\"turbine_id\", T.IntegerType(), True),\n",
    "    T.StructField(\"wind_speed\", T.DoubleType(), True),\n",
    "    T.StructField(\"wind_direction\", T.IntegerType(), True),\n",
    "    T.StructField(\"power_output\", T.DoubleType(), True),\n",
    "    T.StructField(\"outputdate\", T.DateType(), True)\n",
    "])\n",
    "pqoptions = {\n",
    "    \"schema\": sch,\n",
    "    \"inferSchema\": \"false\"\n",
    "}\n",
    "\n",
    "wtdata_latest = get_latestextract_wtdata(sps, md, pqoptions)\n",
    "\n",
    "if (watermark_date != \"1900-01-01\"):\n",
    "    wtdata_missing = validate_missing_days(sps, md, wtdata_latest, pqoptions)\n",
    "    wtdata_validated = wtdata_missing.union(wtdata_latest)\n",
    "else:\n",
    "    wtdata_validated = wtdata_latest.withColumn(\"is_missing\", F.lit(False))"
   ]
  },
  {
   "cell_type": "code",
   "execution_count": 4,
   "metadata": {},
   "outputs": [
    {
     "name": "stdout",
     "output_type": "stream",
     "text": [
      "root\n",
      " |-- timestamp: timestamp (nullable = true)\n",
      " |-- wind_speed: double (nullable = true)\n",
      " |-- wind_direction: integer (nullable = true)\n",
      " |-- power_output: double (nullable = true)\n",
      " |-- outputdate: date (nullable = true)\n",
      " |-- turbine_id: integer (nullable = true)\n",
      " |-- is_missing: boolean (nullable = false)\n",
      "\n"
     ]
    }
   ],
   "source": [
    "#wtdata_validated.count()\n",
    "wtdata_validated.printSchema()"
   ]
  },
  {
   "cell_type": "code",
   "execution_count": 5,
   "metadata": {},
   "outputs": [],
   "source": [
    "wtdata_validated = validate_wind_speed(wtdata_validated)\n",
    "wtdata_validated = validate_power_output(wtdata_validated)\n",
    "wtdata_validated = validate_wind_direction(wtdata_validated)"
   ]
  },
  {
   "cell_type": "code",
   "execution_count": 6,
   "metadata": {},
   "outputs": [
    {
     "name": "stdout",
     "output_type": "stream",
     "text": [
      "root\n",
      " |-- timestamp: timestamp (nullable = true)\n",
      " |-- wind_speed: double (nullable = true)\n",
      " |-- wind_direction: integer (nullable = true)\n",
      " |-- power_output: double (nullable = true)\n",
      " |-- outputdate: date (nullable = true)\n",
      " |-- turbine_id: integer (nullable = true)\n",
      " |-- is_missing: boolean (nullable = false)\n",
      " |-- wind_speed_cleaned: double (nullable = true)\n",
      " |-- power_output_cleaned: double (nullable = true)\n",
      " |-- wind_direction_cleaned: integer (nullable = true)\n",
      "\n"
     ]
    }
   ],
   "source": [
    "wtdata_validated.printSchema()\n",
    "#wtdata_validated.show(truncate=False)"
   ]
  },
  {
   "cell_type": "code",
   "execution_count": 7,
   "metadata": {},
   "outputs": [],
   "source": [
    "write_parquet(sps, wtdata_validated, \"{storage_path}\".format(storage_path = sps.conf.get('storage.validated')))"
   ]
  },
  {
   "cell_type": "code",
   "execution_count": 8,
   "metadata": {},
   "outputs": [],
   "source": [
    "md.set_watermark_date(sps, wtdata_validated)"
   ]
  }
 ],
 "metadata": {
  "kernelspec": {
   "display_name": "Python 3",
   "language": "python",
   "name": "python3"
  },
  "language_info": {
   "codemirror_mode": {
    "name": "ipython",
    "version": 3
   },
   "file_extension": ".py",
   "mimetype": "text/x-python",
   "name": "python",
   "nbconvert_exporter": "python",
   "pygments_lexer": "ipython3",
   "version": "3.10.16"
  }
 },
 "nbformat": 4,
 "nbformat_minor": 2
}
